{
 "cells": [
  {
   "cell_type": "code",
   "execution_count": 2,
   "id": "4b75f494",
   "metadata": {},
   "outputs": [],
   "source": [
    "import numpy as np\n",
    "import pandas as pd\n",
    "%matplotlib inline\n",
    "import matplotlib.pyplot as plt\n",
    "import math\n",
    "from tabulate import tabulate\n",
    "\n",
    "pd.set_option('display.max_columns', 50)"
   ]
  },
  {
   "cell_type": "markdown",
   "id": "5203f971",
   "metadata": {},
   "source": [
    "## Function definition "
   ]
  },
  {
   "cell_type": "code",
   "execution_count": 3,
   "id": "2a1b5b40",
   "metadata": {},
   "outputs": [],
   "source": [
    "def obj1(r): \n",
    "    alp = 0.4\n",
    "    return ((0)*(1.3963/(1.3+0.04*(r**0.8))) + (1)*(1/47.7)*(2.46 + 6.2*(r**0.8)))\n",
    "\n",
    "def fibofn(fn):\n",
    "    fiboser = [0,1,1,2,3,5,8,13,21,34,55,89,144,233,377,610,987,1597,2584]\n",
    "    for i in range(len(fiboser)):\n",
    "        if fn == fiboser[i]:\n",
    "            return fiboser[i-1]"
   ]
  },
  {
   "cell_type": "markdown",
   "id": "408cba22",
   "metadata": {},
   "source": [
    "### Fibonacci Search Method"
   ]
  },
  {
   "cell_type": "code",
   "execution_count": 4,
   "id": "c5deb581",
   "metadata": {},
   "outputs": [
    {
     "name": "stdout",
     "output_type": "stream",
     "text": [
      "The initial range is equal to  9.0\n",
      "Iteration 1\n",
      "x1 = 6.4375 and x2 = 8.5625\n",
      " f(x1) = 0.6281357721816955 and f(x2) = 0.775931189536356\n",
      "Removing the range (8.5625, 12.0)\n",
      "The optimal value lies between 3.0 and 8.5625\n",
      "The new range is equal to  5.5625\n",
      "\n",
      "\n",
      "Iteration 2\n",
      "x1 = 5.125 and x2 = 6.4375\n",
      " f(x1) = 0.5320004326845952 and f(x2) = 0.6281357721816955\n",
      "Removing the range (6.4375, 8.5625)\n",
      "The optimal value lies between 3.0 and 6.4375\n",
      "The new range is equal to  3.4375\n",
      "\n",
      "\n",
      "Iteration 3\n",
      "x1 = 4.3125 and x2 = 5.125\n",
      " f(x1) = 0.4700348767761791 and f(x2) = 0.5320004326845952\n",
      "Removing the range (5.125, 6.4375)\n",
      "The optimal value lies between 3.0 and 5.125\n",
      "The new range is equal to  2.125\n",
      "\n",
      "\n",
      "Iteration 4\n",
      "x1 = 3.8125 and x2 = 4.3125\n",
      " f(x1) = 0.43074863396704544 and f(x2) = 0.4700348767761791\n",
      "Removing the range (4.3125, 5.125)\n",
      "The optimal value lies between 3.0 and 4.3125\n",
      "The new range is equal to  1.3125\n",
      "\n",
      "\n",
      "Iteration 5\n",
      "x1 = 3.5 and x2 = 3.8125\n",
      " f(x1) = 0.405673810307346 and f(x2) = 0.43074863396704544\n",
      "Removing the range (3.8125, 4.3125)\n",
      "The optimal value lies between 3.0 and 3.8125\n",
      "The new range is equal to  0.8125\n",
      "\n",
      "\n",
      "Iteration 6\n",
      "x1 = 3.3125 and x2 = 3.5\n",
      " f(x1) = 0.3904149383670412 and f(x2) = 0.405673810307346\n",
      "Removing the range (3.5, 3.8125)\n",
      "The optimal value lies between 3.0 and 3.5\n",
      "The new range is equal to  0.5\n",
      "\n",
      "\n"
     ]
    }
   ],
   "source": [
    "a = 3.0\n",
    "b = 12.0\n",
    "fn = 144\n",
    "\n",
    "ITER1 = 6\n",
    "epsilon = 0.1\n",
    "method = 'fibo'\n",
    "\n",
    "print(\"The initial range is equal to \",(b-a))\n",
    "\n",
    "\n",
    "for j in range(ITER1):\n",
    "    \n",
    "    fn1 = fibofn(fn)\n",
    "    \n",
    "    I = b-a\n",
    "    print(f\"Iteration {j+1}\")\n",
    "\n",
    "    \n",
    "    if method == 'fibo':\n",
    "        x1 = b - I*(fn1/fn)\n",
    "        x2 = a + I*(fn1/fn)\n",
    "        \n",
    "    print(f\"x1 = {x1} and x2 = {x2}\")\n",
    "    print(f\" f(x1) = {obj1(x1)} and f(x2) = {obj1(x2)}\")\n",
    "        \n",
    "    if obj1(x1) >= obj1(x2):\n",
    "        print(f\"Removing the range {a,x1}\")\n",
    "        a = x1\n",
    "        b = b\n",
    "        \n",
    "    else:\n",
    "        print(f\"Removing the range {x2,b}\")\n",
    "        a = a\n",
    "        b = x2\n",
    "        \n",
    "        \n",
    "    print(f\"The optimal value lies between {a} and {b}\")\n",
    "    print(\"The new range is equal to \",(b-a))\n",
    "    print(\"\\n\")\n",
    "        \n",
    "    fn = fn1    \n",
    "      "
   ]
  },
  {
   "cell_type": "code",
   "execution_count": null,
   "id": "fd5cba35",
   "metadata": {},
   "outputs": [],
   "source": []
  }
 ],
 "metadata": {
  "kernelspec": {
   "display_name": "Python 3 (ipykernel)",
   "language": "python",
   "name": "python3"
  },
  "language_info": {
   "codemirror_mode": {
    "name": "ipython",
    "version": 3
   },
   "file_extension": ".py",
   "mimetype": "text/x-python",
   "name": "python",
   "nbconvert_exporter": "python",
   "pygments_lexer": "ipython3",
   "version": "3.8.10"
  }
 },
 "nbformat": 4,
 "nbformat_minor": 5
}
