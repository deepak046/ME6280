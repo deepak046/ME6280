{
 "cells": [
  {
   "cell_type": "code",
   "execution_count": 7,
   "id": "b1e6cbc3",
   "metadata": {},
   "outputs": [],
   "source": [
    "import numpy as np\n",
    "import pandas as pd\n",
    "%matplotlib inline\n",
    "import matplotlib.pyplot as plt\n",
    "import math\n",
    "from tabulate import tabulate\n",
    "\n",
    "pd.set_option('display.max_columns', 50)"
   ]
  },
  {
   "cell_type": "markdown",
   "id": "ecba1fab",
   "metadata": {},
   "source": [
    "## Function definition "
   ]
  },
  {
   "cell_type": "code",
   "execution_count": 8,
   "id": "51dcd7fc",
   "metadata": {},
   "outputs": [],
   "source": [
    "def obj1(r): \n",
    "    alp = 0.4 # weights for multi-objective optimization\n",
    "    return ((0)*(1.3963/(1.3+0.04*(r**0.8))) + (1)*(1/47.7)*(2.46 + 6.2*(r**0.8)))"
   ]
  },
  {
   "cell_type": "markdown",
   "id": "4ada4121",
   "metadata": {},
   "source": [
    "### Dichotomous Search Method"
   ]
  },
  {
   "cell_type": "code",
   "execution_count": 9,
   "id": "66e177f5",
   "metadata": {},
   "outputs": [
    {
     "name": "stdout",
     "output_type": "stream",
     "text": [
      "The initial range is equal to  9.0\n",
      "Iteration 1\n",
      "x1 = 7.45 and x2 = 7.55\n",
      " f(x1) = 0.6996071273279135 and f(x2) = 0.7065565994464608\n",
      "Removing the range (7.55, 12.0)\n",
      "The optimal value lies between 3.0 and 7.55\n",
      "The new range is equal to  4.55\n",
      "\n",
      "\n",
      "Iteration 2\n",
      "x1 = 5.225 and x2 = 5.324999999999999\n",
      " f(x1) = 0.5394852783251821 and f(x2) = 0.5469415266848892\n",
      "Removing the range (5.324999999999999, 7.55)\n",
      "The optimal value lies between 3.0 and 5.324999999999999\n",
      "The new range is equal to  2.3249999999999993\n",
      "\n",
      "\n",
      "Iteration 3\n",
      "x1 = 4.1125 and x2 = 4.2124999999999995\n",
      " f(x1) = 0.454435936267544 and f(x2) = 0.46225392346333066\n",
      "Removing the range (4.2124999999999995, 5.324999999999999)\n",
      "The optimal value lies between 3.0 and 4.2124999999999995\n",
      "The new range is equal to  1.2124999999999995\n",
      "\n",
      "\n",
      "Iteration 4\n",
      "x1 = 3.5562499999999995 and x2 = 3.65625\n",
      " f(x1) = 0.41021927339631736 and f(x2) = 0.418264818447033\n",
      "Removing the range (3.65625, 4.2124999999999995)\n",
      "The optimal value lies between 3.0 and 3.65625\n",
      "The new range is equal to  0.65625\n",
      "\n",
      "\n",
      "Iteration 5\n",
      "x1 = 3.278125 and x2 = 3.378125\n",
      " f(x1) = 0.38759897399519444 and f(x2) = 0.39577471815390025\n",
      "Removing the range (3.378125, 3.65625)\n",
      "The optimal value lies between 3.0 and 3.378125\n",
      "The new range is equal to  0.3781249999999998\n",
      "\n",
      "\n",
      "Iteration 6\n",
      "x1 = 3.1390625 and x2 = 3.2390624999999997\n",
      " f(x1) = 0.3761459929336626 and f(x2) = 0.3843918340412324\n",
      "Removing the range (3.2390624999999997, 3.378125)\n",
      "The optimal value lies between 3.0 and 3.2390624999999997\n",
      "The new range is equal to  0.23906249999999973\n",
      "\n",
      "\n"
     ]
    }
   ],
   "source": [
    "a = 3.0\n",
    "b = 12.0\n",
    "      \n",
    "ITER1 = 6 #Number of iterations\n",
    "epsilon = 0.1\n",
    "method = 'dicho' # 'fibo' or 'dicho'\n",
    "\n",
    "print(\"The initial range is equal to \",(b-a))\n",
    "\n",
    "\n",
    "for j in range(ITER1):\n",
    "\n",
    "    \n",
    "    I = b-a\n",
    "    print(f\"Iteration {j+1}\")\n",
    "\n",
    "    \n",
    "    if method == 'dicho':\n",
    "        x1 = a + ((I-epsilon)/2)\n",
    "        x2 = b - ((I-epsilon)/2)\n",
    "        \n",
    "    print(f\"x1 = {x1} and x2 = {x2}\")\n",
    "    print(f\" f(x1) = {obj1(x1)} and f(x2) = {obj1(x2)}\")\n",
    "        \n",
    "    if obj1(x1) >= obj1(x2):\n",
    "        print(f\"Removing the range {a,x1}\")\n",
    "        a = x1\n",
    "        b = b\n",
    "        \n",
    "    else:\n",
    "        print(f\"Removing the range {x2,b}\")\n",
    "        a = a\n",
    "        b = x2\n",
    "        \n",
    "        \n",
    "    print(f\"The optimal value lies between {a} and {b}\")\n",
    "    print(\"The new range is equal to \",(b-a))\n",
    "    print(\"\\n\")\n",
    "   \n",
    "      "
   ]
  },
  {
   "cell_type": "code",
   "execution_count": null,
   "id": "f4252390",
   "metadata": {},
   "outputs": [],
   "source": []
  }
 ],
 "metadata": {
  "kernelspec": {
   "display_name": "Python 3 (ipykernel)",
   "language": "python",
   "name": "python3"
  },
  "language_info": {
   "codemirror_mode": {
    "name": "ipython",
    "version": 3
   },
   "file_extension": ".py",
   "mimetype": "text/x-python",
   "name": "python",
   "nbconvert_exporter": "python",
   "pygments_lexer": "ipython3",
   "version": "3.8.10"
  }
 },
 "nbformat": 4,
 "nbformat_minor": 5
}
