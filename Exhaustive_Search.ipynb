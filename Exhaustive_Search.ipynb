{
 "cells": [
  {
   "cell_type": "code",
   "execution_count": 1,
   "id": "785a9769",
   "metadata": {},
   "outputs": [],
   "source": [
    "import numpy as np\n",
    "import pandas as pd\n",
    "%matplotlib inline\n",
    "import matplotlib.pyplot as plt\n",
    "import math\n",
    "from tabulate import tabulate\n",
    "\n",
    "pd.set_option('display.max_columns', 50)"
   ]
  },
  {
   "cell_type": "markdown",
   "id": "5fbff5b3",
   "metadata": {},
   "source": [
    "## Function definition "
   ]
  },
  {
   "cell_type": "code",
   "execution_count": 2,
   "id": "1a613d9a",
   "metadata": {},
   "outputs": [],
   "source": [
    "phi = 0.618 # Golden ratio\n",
    "\n",
    "def fn(x):\n",
    "    return 2*np.pi*(x**2) + 9/x"
   ]
  },
  {
   "cell_type": "code",
   "execution_count": null,
   "id": "2a5070a9",
   "metadata": {},
   "outputs": [],
   "source": []
  },
  {
   "cell_type": "markdown",
   "id": "183f46b5",
   "metadata": {},
   "source": [
    "### Exhaustive Search Method"
   ]
  },
  {
   "cell_type": "code",
   "execution_count": 3,
   "id": "89793f08",
   "metadata": {},
   "outputs": [
    {
     "name": "stdout",
     "output_type": "stream",
     "text": [
      "Iteration 1\n",
      "The optimal value lies between 0.5 and 3.5\n",
      "The range is equal to  3.0\n",
      "  Iterations       X        Y\n",
      "------------  ------  -------\n",
      "           1  0.5000  19.5708\n",
      "           2  1.0000  15.2832\n",
      "           3  1.5000  20.1372\n",
      "           4  2.0000  29.6327\n",
      "           5  2.5000  42.8699\n",
      "           6  3.0000  59.5487\n",
      "           7  3.5000  79.5404\n",
      "\n",
      "\n",
      "Iteration 2\n",
      "The optimal value lies between 0.5 and 1.5\n",
      "The range is equal to  1.0\n",
      "  Iterations       X        Y\n",
      "------------  ------  -------\n",
      "           1  0.5000  19.5708\n",
      "           2  0.6667  16.2925\n",
      "           3  0.8333  15.1633\n",
      "           4  1.0000  15.2832\n",
      "           5  1.1667  16.2664\n",
      "           6  1.3333  17.9201\n",
      "           7  1.5000  20.1372\n",
      "\n",
      "\n",
      "Iteration 3\n",
      "The optimal value lies between 0.6666666666666666 and 1.0\n",
      "The range is equal to  0.33333333333333337\n",
      "  Iterations       X        Y\n",
      "------------  ------  -------\n",
      "           1  0.6667  16.2925\n",
      "           2  0.7222  15.7389\n",
      "           3  0.7778  15.3724\n",
      "           4  0.8333  15.1633\n",
      "           5  0.8889  15.0895\n",
      "           6  0.9444  15.1339\n",
      "           7  1.0000  15.2832\n",
      "\n",
      "\n"
     ]
    }
   ],
   "source": [
    "div = 7\n",
    "a = 0.5\n",
    "b = 3.5\n",
    "\n",
    "def obj(r): \n",
    "    return 2*math.pi*(r**2) + (9/r)\n",
    "\n",
    "ITER = 3\n",
    "\n",
    "#y = np.linspace(8.5,9.5,div)\n",
    "#xv, yv = np.meshgrid(x, y)\n",
    "\n",
    "for j in range(ITER):\n",
    "    \n",
    "    x_values,y_values,iter_values = [],[],[]\n",
    "    \n",
    "    x = np.linspace(a,b,div)\n",
    "    I = b-a\n",
    "    print(f\"Iteration {j+1}\")\n",
    "    print(f\"The optimal value lies between {a} and {b}\")\n",
    "    print(\"The range is equal to \",I)\n",
    "    \n",
    "    iteration = 0\n",
    "    minim = np.inf\n",
    "    \n",
    "    for i in x:\n",
    "        \n",
    "        iteration += 1\n",
    "        x_values.append(i)\n",
    "        y_values.append(obj(i))\n",
    "        iter_values.append(iteration)\n",
    "        \n",
    "        table = zip(iter_values, x_values, y_values)\n",
    "        headers=['Iterations', 'X', 'Y']\n",
    "        \n",
    "        if obj(i) < obj(minim):\n",
    "            minim = i\n",
    "    print(tabulate(table, headers=headers, floatfmt=\".4f\"))\n",
    "            \n",
    "    for k in range(len(x)):\n",
    "        if x[0] == minim or x[-1] == minim:\n",
    "            print(f\"{minim} is the optimal value\")\n",
    "            break\n",
    "        if x[k] == minim:\n",
    "            a = x[k-1]\n",
    "            b = x[k+1]\n",
    "    print(\"\\n\")\n",
    "                "
   ]
  },
  {
   "cell_type": "code",
   "execution_count": null,
   "id": "e3fe8cdd",
   "metadata": {},
   "outputs": [],
   "source": []
  }
 ],
 "metadata": {
  "kernelspec": {
   "display_name": "Python 3 (ipykernel)",
   "language": "python",
   "name": "python3"
  },
  "language_info": {
   "codemirror_mode": {
    "name": "ipython",
    "version": 3
   },
   "file_extension": ".py",
   "mimetype": "text/x-python",
   "name": "python",
   "nbconvert_exporter": "python",
   "pygments_lexer": "ipython3",
   "version": "3.8.10"
  }
 },
 "nbformat": 4,
 "nbformat_minor": 5
}
