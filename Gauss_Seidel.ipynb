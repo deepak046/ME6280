{
 "cells": [
  {
   "cell_type": "code",
   "execution_count": 1,
   "id": "71ab48e2",
   "metadata": {},
   "outputs": [],
   "source": [
    "import numpy as np\n",
    "import pandas as pd\n",
    "%matplotlib inline\n",
    "import matplotlib.pyplot as plt\n",
    "import math\n",
    "from tabulate import tabulate\n",
    "\n",
    "pd.set_option('display.max_columns', 50)"
   ]
  },
  {
   "cell_type": "markdown",
   "id": "361d1d06",
   "metadata": {},
   "source": [
    "## Functions needed"
   ]
  },
  {
   "cell_type": "code",
   "execution_count": 3,
   "id": "f26dae93",
   "metadata": {},
   "outputs": [],
   "source": [
    "f1 = lambda x,y,z,a: 0.25*(y+a+164.562)\n",
    "f2 = lambda x,y,z,a: 0.25*(x+z+154.562)\n",
    "f3 = lambda x,y,z,a: 0.25*(y+a+224.562)\n",
    "f4 = lambda x,y,z,a: 0.25*(x+z+234.562) #change"
   ]
  },
  {
   "cell_type": "markdown",
   "id": "6a013a05",
   "metadata": {},
   "source": [
    "### Gauss Seidel algorithm"
   ]
  },
  {
   "cell_type": "code",
   "execution_count": null,
   "id": "305984d4",
   "metadata": {},
   "outputs": [],
   "source": [
    "# Initialisation \n",
    "x0, y0, z0, a0 = 50,50,50,50 #change\n",
    "\n",
    "iteration = 0\n",
    "iteration_list, x_values, y_values, z_values, a_values = [iteration], [x0], [y0], [z0], [a0] #change\n",
    "\n",
    "# Specify error\n",
    "error = 0.0001\n",
    "error_list = [None]\n",
    "\n",
    "# Gauss Seidel\n",
    "condition = True\n",
    "\n",
    "while condition:\n",
    "\n",
    "    x1 = f1(x0,y0,z0,a0)\n",
    "    y1 = f2(x1,y0,z0,a0)\n",
    "    z1 = f3(x1,y1,z0,a0)\n",
    "    a1 = f4(x1,y1,z1,a0) #change\n",
    "\n",
    "\n",
    "    error_x = (x0-x1)**2\n",
    "    error_y = (y0-y1)**2\n",
    "    error_z = (z0-z1)**2\n",
    "    error_a = (a0-a1)**2 #change\n",
    "\n",
    "    error_total = error_x + error_y +error_z+error_a #change\n",
    "    \n",
    "    iteration += 1\n",
    "\n",
    "    x0, y0, z0, a0 = x1, y1, z1, a1 #change\n",
    "\n",
    "    iteration_list.append(iteration)\n",
    "\n",
    "    x_values.append(x0)\n",
    "    y_values.append(y0)\n",
    "    z_values.append(z0)\n",
    "    a_values.append(a0) #change\n",
    "\n",
    "    error_list.append(error_total)\n",
    "\n",
    "    condition = error_total > error"
   ]
  }
 ],
 "metadata": {
  "kernelspec": {
   "display_name": "Python 3 (ipykernel)",
   "language": "python",
   "name": "python3"
  },
  "language_info": {
   "codemirror_mode": {
    "name": "ipython",
    "version": 3
   },
   "file_extension": ".py",
   "mimetype": "text/x-python",
   "name": "python",
   "nbconvert_exporter": "python",
   "pygments_lexer": "ipython3",
   "version": "3.8.10"
  }
 },
 "nbformat": 4,
 "nbformat_minor": 5
}
