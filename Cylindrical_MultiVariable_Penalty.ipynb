{
 "cells": [
  {
   "cell_type": "code",
   "execution_count": 1,
   "metadata": {},
   "outputs": [],
   "source": [
    "import numpy as np\n",
    "import pandas as pd\n",
    "%matplotlib inline\n",
    "import matplotlib.pyplot as plt\n",
    "import math\n",
    "from tabulate import tabulate\n",
    "from scipy.stats import randint\n",
    "\n",
    "pd.set_option('display.max_columns', 50)"
   ]
  },
  {
   "cell_type": "code",
   "execution_count": null,
   "metadata": {},
   "outputs": [],
   "source": [
    "def f(X):\n",
    "    x1,x2 = X\n",
    "    return 2*pow(x1,2) - 2*x1*x2 +pow(x2,2)\n",
    "\n",
    "def gradF(x):\n",
    "    x1,x2 = x\n",
    "    return np.array([4*x1 - 2*x2, -2*x1 + 2*x2])\n",
    "\n",
    "def hessF(x):\n",
    "    return np.array([[4,-2],[-2,2]])\n",
    "\n",
    "X=[ np.array([3,5]) ]\n",
    "alphas = []\n",
    "grads = []\n",
    "errs = []\n",
    "# gradient descent: x(n+1) = x(n) + α ∇f, For Cauchy steep desc. α = argmin f(x(n) + α ∇f)\n",
    "\n",
    "# for Quadratic function α = argmin f(x(n) + α ∇f(x(n))) => α = - (∇f.T ∇f)/(∇f H ∇f)\n",
    "# proof : https://ocw.mit.edu/courses/sloan-school-of-management/15-084j-nonlinear-programming-spring-2004/lecture-notes/lec5_steep_desce.pdf\n",
    "\n",
    "n_iters = 6\n",
    "for i in range(n_iters):\n",
    "    gradf_ = gradF(X[-1])\n",
    "    \n",
    "    hessf_ = hessF(X[-1])\n",
    "    # α = (S.T S)/(S.T H S)\n",
    "    alpha = -1*np.matmul(gradf_.T, gradf_)/(np.matmul(np.matmul(gradf_.T,hessf_),gradf_))\n",
    "    # Or solve equations usign Scipy. \n",
    "    \n",
    "    X.append(X[-1] + alpha*gradf_)\n",
    "    \n",
    "    alphas.append(alpha)\n",
    "    grads.append(gradf_)\n",
    "    errs.append(pow(np.linalg.norm(X[-1]-X[-2]),2))\n",
    "    print(\"-----Iteration\",i+1,\"-----\")\n",
    "    print(\"alpha =\",round(alpha,3))\n",
    "    print(\"x1 = \",round(X[-1][0],4),\", x2 = \" ,round(X[-1][1],4),sep=\"\")\n",
    "    print(\"error :\",round(errs[-1],7))\n",
    "    print(\"\\n\")\n",
    "\n",
    "y_vals = [f(x) for x in X]"
   ]
  },
  {
   "cell_type": "code",
   "execution_count": null,
   "metadata": {
    "id": "vz2oU5g5r9PE"
   },
   "outputs": [],
   "source": [
    "import math\n",
    "pi = math.pi\n",
    "\n",
    "P_list, y_list, A_list, r_list, h_list = [],[],[],[],[]\n",
    "Penalty= [0,1,10,50,100,200,500, 1000, 10000, 100000, 1000000]\n",
    "\n",
    "for P in Penalty:\n",
    "  a, b = 0.5, 1   #range for radius\n",
    "  c, d = 1,2  #range for height\n",
    "\n",
    "  count = 0\n",
    "  state = True\n",
    "\n",
    "  while state:\n",
    "    count += 1\n",
    "    I = b-a\n",
    "    J = d-c\n",
    "    r1 = a + I*0.618   #golden search\n",
    "    h1 = c + J*0.618\n",
    "\n",
    "    r2 = b - I*0.618\n",
    "    h2 = d - J*0.618\n",
    "\n",
    "    if count == 1 :\n",
    "      h= (c+d)/2\n",
    "    \n",
    "    #for radius\n",
    "    y1 = 2*pi*r1**2 + 2*pi*r1*h + P*(pi*r1**2*h-4.5)**2    \n",
    "    y2 = 2*pi*r2**2 + 2*pi*r2*h + P*(pi*r2**2*h-4.5)**2\n",
    "\n",
    "    if y1 > y2:\n",
    "      b=r1\n",
    "      r=r1\n",
    "    else:\n",
    "      a=r2\n",
    "      r=r2\n",
    "\n",
    "    #for height\n",
    "    y3 = 2*pi*r**2 + 2*pi*r*h1 + P*(pi*r**2*h1-4.5)**2\n",
    "    y4 = 2*pi*r**2 + 2*pi*r*h2 + P*(pi*r**2*h2-4.5)**2\n",
    "\n",
    "    if y3 > y4:\n",
    "      d = h1\n",
    "      h = h1\n",
    "    else:\n",
    "      c = h2\n",
    "      h = h2\n",
    "\n",
    "    if count >1000:\n",
    "      state = False \n",
    "\n",
    "  A = 2*pi*r**2 +2*pi*r*h\n",
    "  y = 2*pi*r**2 + 2*pi*r*h + P*(pi*r**2*h - 4.5)**2\n",
    "\n",
    "\n",
    "  P_list.append(P)\n",
    "  y_list.append(y)\n",
    "  A_list.append(A)\n",
    "  r_list.append(r)\n",
    "  h_list.append(h)\n"
   ]
  },
  {
   "cell_type": "code",
   "execution_count": null,
   "metadata": {
    "colab": {
     "base_uri": "https://localhost:8080/"
    },
    "id": "PrP_YjYZ0417",
    "outputId": "f5038b1c-6e26-4266-da44-128b8242dd65"
   },
   "outputs": [
    {
     "name": "stdout",
     "output_type": "stream",
     "text": [
      "  Penalty       Y+       A+      r+      h+\n",
      "---------  -------  -------  ------  ------\n",
      "        0   4.7124   4.7124  0.5000  1.0000\n",
      "        1  13.7313  12.1418  0.8369  1.4721\n",
      "       10  14.9695  14.8403  0.9059  1.7013\n",
      "       50  15.0639  15.0388  0.8914  1.7938\n",
      "      100  15.0764  15.0638  0.8940  1.7878\n",
      "      200  15.0826  15.0764  0.8943  1.7887\n",
      "      500  15.0864  15.0839  0.8947  1.7886\n",
      "     1000  15.0876  15.0864  0.8946  1.7893\n",
      "    10000  15.0887  15.0886  0.8947  1.7895\n",
      "   100000  15.0888  15.0888  0.8947  1.7894\n",
      "  1000000  15.0889  15.0889  0.8947  1.7894\n"
     ]
    }
   ],
   "source": [
    "from tabulate import tabulate\n",
    "\n",
    "table = zip(P_list, y_list, A_list, r_list, h_list,)\n",
    "headers=['Penalty', 'Y+', 'A+', 'r+', 'h+']\n",
    "\n",
    "print(tabulate(table, headers=headers, floatfmt=\".4f\"))"
   ]
  },
  {
   "cell_type": "code",
   "execution_count": null,
   "metadata": {
    "colab": {
     "base_uri": "https://localhost:8080/",
     "height": 279
    },
    "id": "IFK9FqSj8idE",
    "outputId": "dc1453a5-06ba-4aca-947a-fba90be9bade"
   },
   "outputs": [
    {
     "data": {
      "image/png": "[encoded data removed]",
      "text/plain": [
       "<Figure size 432x288 with 1 Axes>"
      ]
     },
     "metadata": {
      "needs_background": "light"
     },
     "output_type": "display_data"
    }
   ],
   "source": [
    "from math import log\n",
    "import matplotlib.pyplot as plt\n",
    "\n",
    "fig,ax = plt.subplots(1)\n",
    "# naming the X axis and Y axis\n",
    "plt.xlabel('Penalty')\n",
    "plt.ylabel('Y+')\n",
    "\n",
    "# plot the data\n",
    "ax.plot(P_list,y_list)\n",
    "plt.show()"
   ]
  },
  {
   "cell_type": "code",
   "execution_count": null,
   "metadata": {
    "colab": {
     "base_uri": "https://localhost:8080/",
     "height": 280
    },
    "id": "7_JOFCX47Zn1",
    "outputId": "7441e90b-32b4-4069-f203-e1ffdbd6cc09"
   },
   "outputs": [
    {
     "data": {
      "image/png": "[encoded data removed]",
      "text/plain": [
       "<Figure size 432x288 with 1 Axes>"
      ]
     },
     "metadata": {
      "needs_background": "light"
     },
     "output_type": "display_data"
    }
   ],
   "source": [
    "from math import log\n",
    "P_list = [log(y,10) for y in P_list[1:]]\n",
    "y_list = [log(y,10) for y in y_list[1:]]\n",
    "\n",
    "\n",
    "import matplotlib.pyplot as plt\n",
    "\n",
    "fig,ax = plt.subplots(1)\n",
    "# naming the X axis and Y axis\n",
    "plt.xlabel('Log Penalty')\n",
    "plt.ylabel('Log Y+')\n",
    "\n",
    "# plot the data\n",
    "ax.plot(P_list,y_list)\n",
    "plt.show()"
   ]
  }
 ],
 "metadata": {
  "colab": {
   "collapsed_sections": [],
   "name": "Cylindrical MultiVariable Penalty.ipynb",
   "provenance": []
  },
  "kernelspec": {
   "display_name": "Python 3 (ipykernel)",
   "language": "python",
   "name": "python3"
  },
  "language_info": {
   "codemirror_mode": {
    "name": "ipython",
    "version": 3
   },
   "file_extension": ".py",
   "mimetype": "text/x-python",
   "name": "python",
   "nbconvert_exporter": "python",
   "pygments_lexer": "ipython3",
   "version": "3.8.10"
  }
 },
 "nbformat": 4,
 "nbformat_minor": 1
}
