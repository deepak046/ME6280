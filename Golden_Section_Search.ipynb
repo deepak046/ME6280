{
 "cells": [
  {
   "cell_type": "code",
   "execution_count": 1,
   "id": "4fbf5c47",
   "metadata": {},
   "outputs": [],
   "source": [
    "import numpy as np\n",
    "import pandas as pd\n",
    "%matplotlib inline\n",
    "import matplotlib.pyplot as plt\n",
    "import math\n",
    "from tabulate import tabulate\n",
    "\n",
    "pd.set_option('display.max_columns', 50)"
   ]
  },
  {
   "cell_type": "markdown",
   "id": "2d0279fa",
   "metadata": {},
   "source": [
    "## Function definition "
   ]
  },
  {
   "cell_type": "code",
   "execution_count": 3,
   "id": "c19d6664",
   "metadata": {},
   "outputs": [],
   "source": [
    "def obj1(r): \n",
    "    alp = 0.4 # weights for multi-objective optimization\n",
    "    return ((0)*(1.3963/(1.3+0.04*(r**0.8))) + (1)*(1/47.7)*(2.46 + 6.2*(r**0.8)))"
   ]
  },
  {
   "cell_type": "markdown",
   "id": "571f9f3b",
   "metadata": {},
   "source": [
    "### Golden Section Search Method"
   ]
  },
  {
   "cell_type": "code",
   "execution_count": 4,
   "id": "c703b6d3",
   "metadata": {},
   "outputs": [
    {
     "name": "stdout",
     "output_type": "stream",
     "text": [
      "The initial range is equal to  9.0\n",
      "Iteration 1\n",
      "x1 = 6.438 and x2 = 8.562000000000001\n",
      " f(x1) = 0.6281715972048947 and f(x2) = 0.7758973506765641\n",
      "Removing the range (8.562000000000001, 12.0)\n",
      "The optimal value lies between 3.0 and 8.562000000000001\n",
      "The new range is equal to  5.562000000000001\n",
      "\n",
      "\n",
      "Iteration 2\n",
      "x1 = 5.124684 and x2 = 6.437316000000001\n",
      " f(x1) = 0.5319767345433306 and f(x2) = 0.6281225884330808\n",
      "Removing the range (6.437316000000001, 8.562000000000001)\n",
      "The optimal value lies between 3.0 and 6.437316000000001\n",
      "The new range is equal to  3.437316000000001\n",
      "\n",
      "\n",
      "Iteration 3\n",
      "x1 = 4.3130547120000005 and x2 = 5.1242612880000005\n",
      " f(x1) = 0.4700779373140996 and f(x2) = 0.5319450331727855\n",
      "Removing the range (5.1242612880000005, 6.437316000000001)\n",
      "The optimal value lies between 3.0 and 5.1242612880000005\n",
      "The new range is equal to  2.1242612880000005\n",
      "\n",
      "\n",
      "Iteration 4\n",
      "x1 = 3.811467812016 and x2 = 4.312793475984\n",
      " f(x1) = 0.43066650584636 and f(x2) = 0.4700576585265011\n",
      "Removing the range (4.312793475984, 5.1242612880000005)\n",
      "The optimal value lies between 3.0 and 4.312793475984\n",
      "The new range is equal to  1.3127934759839999\n",
      "\n",
      "\n",
      "Iteration 5\n",
      "x1 = 3.501487107825888 and x2 = 3.811306368158112\n",
      " f(x1) = 0.40579416795687073 and f(x2) = 0.4306536598376329\n",
      "Removing the range (3.811306368158112, 4.312793475984)\n",
      "The optimal value lies between 3.0 and 3.811306368158112\n",
      "The new range is equal to  0.8113063681581121\n",
      "\n",
      "\n",
      "Iteration 6\n",
      "x1 = 3.3099190326363988 and x2 = 3.5013873355217133\n",
      " f(x1) = 0.3902037118291979 and f(x2) = 0.4057860933008465\n",
      "Removing the range (3.5013873355217133, 3.811306368158112)\n",
      "The optimal value lies between 3.0 and 3.5013873355217133\n",
      "The new range is equal to  0.5013873355217133\n",
      "\n",
      "\n"
     ]
    }
   ],
   "source": [
    "a = 3.0\n",
    "b = 12.0\n",
    "phi = 0.618\n",
    "      \n",
    "ITER1 = 6\n",
    "epsilon = 0.1\n",
    "method = 'golden' # 'fibo' or 'dicho'\n",
    "\n",
    "print(\"The initial range is equal to \",(b-a))\n",
    "\n",
    "\n",
    "for j in range(ITER1):\n",
    "    \n",
    "    I = b-a\n",
    "    print(f\"Iteration {j+1}\")\n",
    " \n",
    "    if method == 'golden':\n",
    "        x1 = b - phi*I\n",
    "        x2 = a + phi*I\n",
    "   \n",
    "    print(f\"x1 = {x1} and x2 = {x2}\")\n",
    "    print(f\" f(x1) = {obj1(x1)} and f(x2) = {obj1(x2)}\")\n",
    "        \n",
    "    if obj1(x1) >= obj1(x2):\n",
    "        print(f\"Removing the range {a,x1}\")\n",
    "        a = x1\n",
    "        b = b\n",
    "        \n",
    "    else:\n",
    "        print(f\"Removing the range {x2,b}\")\n",
    "        a = a\n",
    "        b = x2\n",
    "        \n",
    "        \n",
    "    print(f\"The optimal value lies between {a} and {b}\")\n",
    "    print(\"The new range is equal to \",(b-a))\n",
    "    print(\"\\n\")\n",
    "    \n",
    "      "
   ]
  },
  {
   "cell_type": "code",
   "execution_count": null,
   "id": "2d0fa66a",
   "metadata": {},
   "outputs": [],
   "source": []
  }
 ],
 "metadata": {
  "kernelspec": {
   "display_name": "Python 3 (ipykernel)",
   "language": "python",
   "name": "python3"
  },
  "language_info": {
   "codemirror_mode": {
    "name": "ipython",
    "version": 3
   },
   "file_extension": ".py",
   "mimetype": "text/x-python",
   "name": "python",
   "nbconvert_exporter": "python",
   "pygments_lexer": "ipython3",
   "version": "3.8.10"
  }
 },
 "nbformat": 4,
 "nbformat_minor": 5
}
