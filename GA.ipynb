{
 "cells": [
  {
   "cell_type": "code",
   "execution_count": 1,
   "id": "e0276c06",
   "metadata": {},
   "outputs": [],
   "source": [
    "import pandas as pd\n",
    "import numpy as np\n",
    "from scipy.stats import randint"
   ]
  },
  {
   "cell_type": "code",
   "execution_count": 11,
   "id": "04348de6",
   "metadata": {},
   "outputs": [],
   "source": [
    "def rantobin(array):            #random number list to binary digits\n",
    "    for i in range(len(array)):\n",
    "        if array[i] < 0.5:\n",
    "            array[i] = 0\n",
    "        else:\n",
    "            array[i] = 1\n",
    "    return array.astype(int)\n",
    "\n",
    "def slic(array,bits):               #slicing the big array to 4 smaller arrays\n",
    "    \n",
    "    array1 = array[:bits]\n",
    "    array2 = array[bits:2*bits]\n",
    "    array3 = array[2*bits:3*bits]\n",
    "    array4 = array[3*bits:4*bits]\n",
    "    \n",
    "    return np.array(array1),np.array(array2),np.array(array3),np.array(array4)\n",
    "\n",
    "def bintonor(array):                      #convert binary array to number\n",
    "    j = len(array)\n",
    "    num = 0\n",
    "    for i in range(j):\n",
    "        num = num + (2**(j-i-1))*array[i]\n",
    "    return num\n",
    "\n",
    "def nortobin(num):                        #convert num to binary array\n",
    "    temp = format(num, \"b\")\n",
    "    array = list(str(temp))\n",
    "    return np.array(array).astype(int)\n",
    "\n",
    "def arrtostr(array):\n",
    "    string = ''.join(map(str,array))\n",
    "    return string\n",
    "\n",
    "def obj(x):\n",
    "    x = x\n",
    "    return (1.076*(10**(-7))*(x**3) + ((8.76*(10**5))/x))\n",
    "\n"
   ]
  },
  {
   "cell_type": "code",
   "execution_count": 21,
   "id": "6d32e8e1",
   "metadata": {},
   "outputs": [
    {
     "data": {
      "text/plain": [
       "1180.4086993951612"
      ]
     },
     "execution_count": 21,
     "metadata": {},
     "output_type": "execute_result"
    }
   ],
   "source": [
    "obj(775)"
   ]
  },
  {
   "cell_type": "code",
   "execution_count": 18,
   "id": "953136c2",
   "metadata": {},
   "outputs": [
    {
     "data": {
      "text/plain": [
       "219"
      ]
     },
     "execution_count": 18,
     "metadata": {},
     "output_type": "execute_result"
    }
   ],
   "source": [
    "bintonor([0,0,1,1,0,1,1,0,1,1])"
   ]
  },
  {
   "cell_type": "code",
   "execution_count": 12,
   "id": "bc0ccabe",
   "metadata": {},
   "outputs": [],
   "source": [
    "#init = rantobin(rano)\n",
    "#init1,init2,init3,init4 = slic(init,6)\n",
    "\n",
    "def GA(init_array,bits):\n",
    "    \n",
    "\n",
    "    init1,init2,init3,init4 = slic(init_array,bits)\n",
    "    print(\"Initial Population\")\n",
    "    print(init1)\n",
    "    print(init2)\n",
    "    print(init3)\n",
    "    print(init4)\n",
    "    print(\"\\n\")\n",
    "    \n",
    "    print(\"D value\")\n",
    "    d1 = bintonor(init1)/prec\n",
    "    d2 = bintonor(init2)/prec\n",
    "    d3 = bintonor(init3)/prec\n",
    "    d4 = bintonor(init4)/prec\n",
    "    print(bintonor(init1)/prec)\n",
    "    print(bintonor(init2)/prec)\n",
    "    print(bintonor(init3)/prec)\n",
    "    print(bintonor(init4)/prec)\n",
    "    print(\"\\n\")\n",
    "    \n",
    "    print(\"Y = f(D)\")    \n",
    "    y1 = obj(bintonor(init1)/prec)\n",
    "    y2 = obj(bintonor(init2)/prec)\n",
    "    y3 = obj(bintonor(init3)/prec)\n",
    "    y4 = obj(bintonor(init4)/prec)\n",
    "    print(obj(bintonor(init1)/prec))\n",
    "    print(obj(bintonor(init2)/prec))\n",
    "    print(obj(bintonor(init3)/prec))\n",
    "    print(obj(bintonor(init4)/prec))\n",
    "    sum = obj(bintonor(init1)/prec) + obj(bintonor(init2)/prec) + obj(bintonor(init3)/prec) + obj(bintonor(init4)/prec)\n",
    "    print(\"\\n\")\n",
    "    \n",
    "    print(\"P-select\")\n",
    "    p1 = y1/sum\n",
    "    p2 = y2/sum\n",
    "    p3 = y3/sum\n",
    "    p4 = y4/sum\n",
    "    print(y1/sum)\n",
    "    print(y2/sum)\n",
    "    print(y3/sum)\n",
    "    print(y4/sum)\n",
    "    print(\"\\n\")\n"
   ]
  },
  {
   "cell_type": "code",
   "execution_count": 13,
   "id": "586305a5",
   "metadata": {},
   "outputs": [],
   "source": [
    "rano = np.array([0.001213,0.499629,0.108501,0.557434,0.092645,0.762627,0.032722,0.352862,0.941875,0.199044,\n",
    "        0.339548,0.155062,0.751033,0.634536,0.227241,0.721023,0.789616,0.760869,0.805480,0.585186,\n",
    "        0.898980,0.282693,0.386183,0.799824,0.589628,0.696237,0.299315,0.574100,0.240002,0.936553,\n",
    "        0.543258,0.582447,0.239493,0.199621,0.191479,0.222878,0.052303,0.120791,0.826543,0.986111])\n",
    "\n",
    "prec = 1\n",
    "bits = 10"
   ]
  },
  {
   "cell_type": "code",
   "execution_count": 14,
   "id": "e9393623",
   "metadata": {},
   "outputs": [
    {
     "name": "stdout",
     "output_type": "stream",
     "text": [
      "Initial Population\n",
      "[0 0 0 1 0 1 0 0 1 0]\n",
      "[0 0 1 1 0 1 1 1 1 1]\n",
      "[1 0 0 1 1 1 0 1 0 1]\n",
      "[1 1 0 0 0 0 0 0 1 1]\n",
      "\n",
      "\n",
      "D value\n",
      "82.0\n",
      "223.0\n",
      "629.0\n",
      "771.0\n",
      "\n",
      "\n",
      "Y = f(D)\n",
      "10682.986156465091\n",
      "3929.444358485433\n",
      "1419.4639455879103\n",
      "1185.5013580116156\n",
      "\n",
      "\n",
      "P-select\n",
      "0.6204763060018186\n",
      "0.22822524381136916\n",
      "0.08244359138555539\n",
      "0.06885485880125695\n",
      "\n",
      "\n"
     ]
    }
   ],
   "source": [
    "# Iteration - 1\n",
    "\n",
    "#iter_1 = [0,0,0,1,1,1,1,0,0,1,0,0,1,0,1,1,0,1,1,1,1,0,0,0,1,0,1,0,0,1,0,1]\n",
    "iter_1 = rantobin(rano)[:40]\n",
    "#len(iter_1)\n",
    "GA(iter_1,bits)"
   ]
  },
  {
   "cell_type": "code",
   "execution_count": 8,
   "id": "89e53a60",
   "metadata": {},
   "outputs": [
    {
     "name": "stdout",
     "output_type": "stream",
     "text": [
      "Initial Population\n",
      "[0 1 0 0 1 0 0 0]\n",
      "[0 1 0 0 1 1 1 0]\n",
      "[0 0 0 1 1 0 1 1]\n",
      "[0 1 1 1 1 0 1 1]\n",
      "\n",
      "\n",
      "D value\n",
      "7.2\n",
      "7.8\n",
      "2.7\n",
      "12.3\n",
      "\n",
      "\n",
      "Y = f(D)\n",
      "1798.015802469136\n",
      "1775.5815121630508\n",
      "1743.0512620027437\n",
      "1519.9542844867474\n",
      "\n",
      "\n",
      "P-select\n",
      "0.2629984275807614\n",
      "0.25971693079620134\n",
      "0.2549586830493123\n",
      "0.22232595857372492\n",
      "\n",
      "\n"
     ]
    }
   ],
   "source": [
    "# Iteration - 2\n",
    "\n",
    "iter_2 = [0,1,0,0,1,0,0,0,0,1,0,0,1,1,1,0,0,0,0,1,1,0,1,1,0,1,1,1,1,0,1,1]\n",
    "GA(iter_2,bits)\n",
    "#len(iter_2)"
   ]
  },
  {
   "cell_type": "code",
   "execution_count": null,
   "id": "ba0048f7",
   "metadata": {},
   "outputs": [],
   "source": [
    "# Iteration - 3\n"
   ]
  }
 ],
 "metadata": {
  "kernelspec": {
   "display_name": "Python 3 (ipykernel)",
   "language": "python",
   "name": "python3"
  },
  "language_info": {
   "codemirror_mode": {
    "name": "ipython",
    "version": 3
   },
   "file_extension": ".py",
   "mimetype": "text/x-python",
   "name": "python",
   "nbconvert_exporter": "python",
   "pygments_lexer": "ipython3",
   "version": "3.8.10"
  }
 },
 "nbformat": 4,
 "nbformat_minor": 5
}
